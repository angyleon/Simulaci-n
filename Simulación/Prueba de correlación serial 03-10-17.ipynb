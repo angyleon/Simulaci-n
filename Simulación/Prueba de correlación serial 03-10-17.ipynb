{
 "cells": [
  {
   "cell_type": "code",
   "execution_count": 1,
   "metadata": {
    "collapsed": true
   },
   "outputs": [],
   "source": [
    "import pandas as pd\n",
    "import random\n",
    "from __future__ import division\n",
    "import numpy as np\n",
    "from scipy import stats\n",
    "import matplotlib.pyplot as plt\n",
    "%matplotlib inline"
   ]
  },
  {
   "cell_type": "code",
   "execution_count": 4,
   "metadata": {},
   "outputs": [
    {
     "name": "stdout",
     "output_type": "stream",
     "text": [
      "-0.000163330577041 0.000163330577041\n"
     ]
    }
   ],
   "source": [
    "k = 3\n",
    "n = 1000000\n",
    "alpha=.05\n",
    "x = np.random.uniform(0,1,size=n)\n",
    "\n",
    "sum = 0\n",
    "for i in range (n-k):\n",
    "    sum+=(x[i]-1/2)*(x[i+k]-1/2)    \n",
    "    r = sum*(1//(n-k))\n",
    "\n",
    "Z = stats.norm.ppf(1-alpha/2) \n",
    "R1 = r - (Z/(12*((n-k)**(1/2))))\n",
    "R2 = r + (Z/(12*((n-k)**(1/2))))\n",
    "\n",
    "print R1,R2"
   ]
  },
  {
   "cell_type": "code",
   "execution_count": null,
   "metadata": {
    "collapsed": true
   },
   "outputs": [],
   "source": []
  }
 ],
 "metadata": {
  "kernelspec": {
   "display_name": "Python 2",
   "language": "python",
   "name": "python2"
  },
  "language_info": {
   "codemirror_mode": {
    "name": "ipython",
    "version": 2
   },
   "file_extension": ".py",
   "mimetype": "text/x-python",
   "name": "python",
   "nbconvert_exporter": "python",
   "pygments_lexer": "ipython2",
   "version": "2.7.13"
  }
 },
 "nbformat": 4,
 "nbformat_minor": 2
}
